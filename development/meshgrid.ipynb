{
 "cells": [
  {
   "cell_type": "code",
   "execution_count": 1,
   "metadata": {},
   "outputs": [],
   "source": [
    "import numpy as np"
   ]
  },
  {
   "cell_type": "code",
   "execution_count": 5,
   "metadata": {},
   "outputs": [
    {
     "name": "stdout",
     "output_type": "stream",
     "text": [
      "x = [-1.  0.  1.]\n",
      "y = [-2. -1.  0.  1.  2.]\n",
      "X = \n",
      "[[-1.  0.  1.]\n",
      " [-1.  0.  1.]\n",
      " [-1.  0.  1.]\n",
      " [-1.  0.  1.]\n",
      " [-1.  0.  1.]]\n",
      "Y = \n",
      "[[-2. -2. -2.]\n",
      " [-1. -1. -1.]\n",
      " [ 0.  0.  0.]\n",
      " [ 1.  1.  1.]\n",
      " [ 2.  2.  2.]]\n"
     ]
    }
   ],
   "source": [
    "x = np.arange(-1.0, 1.01, 1.0)\n",
    "y = np.arange(-2.0, 2.01, 1.0)\n",
    "X, Y = np.meshgrid(x, y)\n",
    "print(f'x = {x}')\n",
    "print(f'y = {y}')\n",
    "print(f'X = \\n{X}')\n",
    "print(f'Y = \\n{Y}')\n"
   ]
  },
  {
   "cell_type": "code",
   "execution_count": 8,
   "metadata": {},
   "outputs": [
    {
     "name": "stdout",
     "output_type": "stream",
     "text": [
      "[[0.00673795 0.01831564 0.00673795]\n",
      " [0.13533528 0.36787944 0.13533528]\n",
      " [0.36787944 1.         0.36787944]\n",
      " [0.13533528 0.36787944 0.13533528]\n",
      " [0.00673795 0.01831564 0.00673795]]\n"
     ]
    }
   ],
   "source": [
    "Z1 = np.exp(-X**2 - Y**2)\n",
    "print(Z1)"
   ]
  },
  {
   "cell_type": "code",
   "execution_count": 9,
   "metadata": {},
   "outputs": [
    {
     "name": "stdout",
     "output_type": "stream",
     "text": [
      "[[2.26032941e-06 4.53999298e-05 1.23409804e-04]\n",
      " [3.35462628e-04 6.73794700e-03 1.83156389e-02]\n",
      " [6.73794700e-03 1.35335283e-01 3.67879441e-01]\n",
      " [1.83156389e-02 3.67879441e-01 1.00000000e+00]\n",
      " [6.73794700e-03 1.35335283e-01 3.67879441e-01]]\n"
     ]
    }
   ],
   "source": [
    "Z2 = np.exp(-(X - 1)**2 - (Y - 1)**2)\n",
    "print(Z2)"
   ]
  },
  {
   "cell_type": "code",
   "execution_count": 10,
   "metadata": {},
   "outputs": [
    {
     "name": "stdout",
     "output_type": "stream",
     "text": [
      "[[ 0.01347137  0.03654048  0.01322907]\n",
      " [ 0.26999964  0.72228299  0.23403929]\n",
      " [ 0.72228299  1.72932943  0.        ]\n",
      " [ 0.23403929  0.         -1.72932943]\n",
      " [ 0.         -0.23403929 -0.72228299]]\n"
     ]
    }
   ],
   "source": [
    "Z = (Z1 - Z2) * 2\n",
    "print(Z)"
   ]
  }
 ],
 "metadata": {
  "interpreter": {
   "hash": "31f2aee4e71d21fbe5cf8b01ff0e069b9275f58929596ceb00d14d90e3e16cd6"
  },
  "kernelspec": {
   "display_name": "Python 3.9.2 64-bit",
   "language": "python",
   "name": "python3"
  },
  "language_info": {
   "codemirror_mode": {
    "name": "ipython",
    "version": 3
   },
   "file_extension": ".py",
   "mimetype": "text/x-python",
   "name": "python",
   "nbconvert_exporter": "python",
   "pygments_lexer": "ipython3",
   "version": "3.9.2"
  },
  "orig_nbformat": 4
 },
 "nbformat": 4,
 "nbformat_minor": 2
}
